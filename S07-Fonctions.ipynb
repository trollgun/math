{
 "cells": [
  {
   "cell_type": "markdown",
   "metadata": {},
   "source": [
    "# Fonctions\n",
    "\n",
    "## Définir de nouveaux mots de vocabulaire\n",
    "\n",
    "Nous connaissons  déjà quelques fonctions :\n",
    "- `int` , qui peut prendre en argument un `float` et qui renvoie la partie entière de ce `float`.\n",
    "- `sqrt` , importée du module `math` , qui prend en argument un `float` positif et qui renvoie un `float` qui est une valeur approchée de sa racine carrée.\n",
    "-  `print` , peut prendre en argument une chaine de caractères (ou davantage), ne retourne rien mais l’affiche à l’écran.\n",
    "-  `input` , qui prend en argument une chaine de caractères, et qui renvoie un `str` : celui entré au clavier par l’utilisateur.\n",
    "\n",
    "Ces fonctions sont dites pré-définies (built-in).\n",
    "\n",
    "Nous avons la possibilité de définir nos propres fonctions : on utilise le mot-clé `def` pour définir la fonction, les parenthèses pour indiquer les arguments passés à la fonction, et `return` pour spécifier ce que la fonction renvoie (le résultat). La fonction suivante est rigoureusement inutile, ne prend aucun argument et n’en retourne aucun :"
   ]
  },
  {
   "cell_type": "code",
   "execution_count": 1,
   "metadata": {},
   "outputs": [
    {
     "name": "stdout",
     "output_type": "stream",
     "text": [
      "Bonjour\n"
     ]
    }
   ],
   "source": [
    "# FONCTION \n",
    "\n",
    "def dis_bonjour()->None : # on définit le nom de la fonction\n",
    "    print('Bonjour') # voici son unique instruction\n",
    "\n",
    "# FIN DE LA FONCTION\n",
    "     \n",
    "# PROGRAMME PRINCIPAL, AUSSI APPELE MAIN\n",
    "\n",
    "dis_bonjour() # on l'appelle dans le programme principal"
   ]
  },
  {
   "cell_type": "markdown",
   "metadata": {},
   "source": [
    "Cette deuxième fonction tout aussi inutile prend un argument qui est censé être un `int`, et ne renvoie rien :"
   ]
  },
  {
   "cell_type": "code",
   "execution_count": null,
   "metadata": {},
   "outputs": [],
   "source": [
    "# FONCTION \n",
    "\n",
    "def affiche_age(n:int)->None : # Quand on appelle affiche_age, il faut lui donner un argument n\n",
    "    print(\"J'ai \", n ,\" \n",
    "          ans.\")\n",
    "    \n",
    "# MAIN\n",
    "\n",
    "affiche_age(18)"
   ]
  },
  {
   "cell_type": "markdown",
   "metadata": {},
   "source": [
    "En voici une troisième, qui prend en argument un `float`, et renvoie son carré :"
   ]
  },
  {
   "cell_type": "code",
   "execution_count": null,
   "metadata": {},
   "outputs": [],
   "source": [
    "def carre(n:float)->float:\n",
    "    return n*n\n",
    "\n",
    "# MAIN\n",
    "\n",
    "print(carre(10.0))\n",
    "print(carre(9.81))"
   ]
  },
  {
   "cell_type": "markdown",
   "metadata": {},
   "source": [
    "***\n",
    "### <font color=red>Exercice<font color=black> \n",
    "    \n",
    "Écris une fonction `g` qui modélise la fonction mathématique $g$ définie sur $\\mathbb{R}$ par $$g(x)=3x^2+2x-7$$\n",
    "\n",
    "Puis affiche $g(10)$ et $g(-3)$."
   ]
  },
  {
   "cell_type": "code",
   "execution_count": null,
   "metadata": {},
   "outputs": [],
   "source": []
  },
  {
   "cell_type": "markdown",
   "metadata": {},
   "source": [
    "***\n",
    "### <font color=red>Exercice<font color=black> \n",
    "    \n",
    "Écrire une fonction qui calcule l’aire d’un disque de rayon donné et s’en servir pour calculer l’aire d’un disque de rayon 5cm."
   ]
  },
  {
   "cell_type": "code",
   "execution_count": null,
   "metadata": {},
   "outputs": [],
   "source": [
    "from math import pi\n",
    "#compléter"
   ]
  },
  {
   "cell_type": "markdown",
   "metadata": {},
   "source": [
    "## Argument(s) d'une fonction\n",
    "\n",
    "### Une fonction peut prendre plusieurs arguments :"
   ]
  },
  {
   "cell_type": "code",
   "execution_count": null,
   "metadata": {},
   "outputs": [],
   "source": [
    "def produit(n:int,p:int)->int:\n",
    "    return n*p\n",
    "\n",
    "print(produit(3,4))"
   ]
  },
  {
   "cell_type": "markdown",
   "metadata": {},
   "source": [
    "***\n",
    "### <font color=red>Exercice<font color=black> \n",
    "    \n",
    "Écrire une fonction `maximum` qui\n",
    "- en entrée prend  deux `float`\n",
    "- renvoie le plus grand des deux (sans utiliser la fonction `max` de Python)."
   ]
  },
  {
   "cell_type": "code",
   "execution_count": null,
   "metadata": {},
   "outputs": [],
   "source": []
  },
  {
   "cell_type": "markdown",
   "metadata": {},
   "source": [
    "***\n",
    "### <font color=red>Exercice<font color=black> \n",
    "    \n",
    "Soit $n$ un entier naturel. La *factorielle* de $n$ est le nombre noté $n!$ et défini par $$n!=1\\times 2\\times\\ldots\\times n$$ et $0!=1$. \n",
    "\n",
    "Programmer la fonction `factorielle` qui\n",
    "- en entrée prend un `int` (supposé positif);\n",
    "- renvoie la factorielle de cet entier."
   ]
  },
  {
   "cell_type": "code",
   "execution_count": null,
   "metadata": {},
   "outputs": [],
   "source": []
  },
  {
   "cell_type": "markdown",
   "metadata": {},
   "source": [
    "***\n",
    "### <font color=red>Exercice<font color=black> \n",
    "\n",
    "La fonction `choice` du module `random`. Permet de choisir au hasard un élément d'une liste ou bien un caractère d'un `str`.\n",
    "Compléter le code suivant pour que la fonction `password` génère un mot de passe aléatoire de longueur `n` constitué de majuscules, minuscules ou chiffres."
   ]
  },
  {
   "cell_type": "code",
   "execution_count": null,
   "metadata": {},
   "outputs": [],
   "source": [
    "from random import choice\n",
    "\n",
    "def password(n : int) -> str:\n",
    "    chaine = '0123456789ABCDEFGHIJKLMNOPQRSTUVWXYZabcdefghijklmnopqrstuvwxyz'\n",
    "    # compléter à l'aide d'une boucle\n",
    "    \n",
    "\n",
    "print(password(8))"
   ]
  },
  {
   "cell_type": "markdown",
   "metadata": {},
   "source": [
    "***\n",
    "### Une fonction peut \"renvoyer plusieurs valeurs\" :"
   ]
  },
  {
   "cell_type": "code",
   "execution_count": null,
   "metadata": {},
   "outputs": [],
   "source": [
    "def div_eucl_par_2(n : int)->tuple:\n",
    "    return n//2, n%2\n",
    "\n",
    "\n",
    "quotient, reste = div_eucl_par_2(13)\n",
    "print(quotient,reste)"
   ]
  },
  {
   "cell_type": "markdown",
   "metadata": {},
   "source": [
    "En fait ce n'est pas tout à fait juste : la fonction ne renvoie pas 2 valeurs, mais un `tuple` (comme une liste mais non-mutable, nous verrons cela prochainement)."
   ]
  },
  {
   "cell_type": "code",
   "execution_count": null,
   "metadata": {},
   "outputs": [],
   "source": [
    "print(type(div_eucl_par_2(13)))"
   ]
  },
  {
   "cell_type": "markdown",
   "metadata": {},
   "source": [
    "### Une fonction peut prendre des arguments facultatifs :\n",
    "\n",
    "C'est-à-dire que si on ne précise rien, les arguments prennent une valeur *par défaut*.\n",
    "Il faut toujours mettre **d'abord les arguments obligatoires et ensuite seulement les facultatifs**."
   ]
  },
  {
   "cell_type": "code",
   "execution_count": 3,
   "metadata": {
    "scrolled": true
   },
   "outputs": [
    {
     "name": "stdout",
     "output_type": "stream",
     "text": [
      "Kebab sauce harissa avec salade.\n",
      "Kebab sauce samourai sans salade.\n"
     ]
    }
   ],
   "source": [
    "def kebab(sauce : str, salade=True)-> None : # par defaut il y a de la salade\n",
    "    print(\"Kebab sauce\", sauce, end=' ') # end=' ' : une espace et pas de retour a la ligne\n",
    "    if salade : # Raccourci pour if salade== True\n",
    "        print(\"avec salade.\")\n",
    "    else :\n",
    "        print(\"sans salade.\")\n",
    " \n",
    "sansSalade = False # Petite variable pratique\n",
    "kebab(\"harissa\")\n",
    "kebab(\"samourai\", sansSalade)"
   ]
  },
  {
   "cell_type": "markdown",
   "metadata": {},
   "source": [
    "***\n",
    "### <font color=red>Exercice<font color=black> \n",
    "    \n",
    "1. Écrire une fonction `kapr_haut` qui \n",
    "- prend en entrée un entier à 3 chiffres; \n",
    "- renvoie l’entier ayant les 3 mêmes chiffres mais dans l’ordre croissant.\n",
    "\n",
    "Penser à `%10` , `//100` ... utiliser des listes, et, pour une liste donnée `maliste` , la méthode `maliste.sort()` pour la trier dans l’ordre croissant.\n",
    "\n",
    "*Exemple : kapr_haut(365) renvoie 356.*"
   ]
  },
  {
   "cell_type": "code",
   "execution_count": null,
   "metadata": {},
   "outputs": [],
   "source": []
  },
  {
   "cell_type": "markdown",
   "metadata": {},
   "source": [
    "2. Écrire une fonction `kapr_bas` qui \n",
    "- prend en entrée un entier à 3 chiffres;\n",
    "- renvoie l’entier ayant les 3 mêmes chiffres mais dans l’ordre décroissant.\n",
    "\n",
    "*Exemple : kapr_bas(365) renvoie 653.*"
   ]
  },
  {
   "cell_type": "code",
   "execution_count": null,
   "metadata": {},
   "outputs": [],
   "source": []
  },
  {
   "cell_type": "markdown",
   "metadata": {},
   "source": [
    "3. Écrire une fonction `processus` qui\n",
    "- prend en entrée un entier `n` à 3 chiffres;\n",
    "- renvoie `kapr_bas(n)-kapr_haut(n)`."
   ]
  },
  {
   "cell_type": "code",
   "execution_count": null,
   "metadata": {},
   "outputs": [],
   "source": []
  },
  {
   "cell_type": "markdown",
   "metadata": {},
   "source": [
    "4. Écrire une fonction `kaprekar` qui \n",
    "- prend en entrée un entier à 3 chiffres\n",
    "- lui applique `processus` jusqu’à ce que le résultat soit le même 2 fois de suite et renvoie alors ce résultat."
   ]
  },
  {
   "cell_type": "code",
   "execution_count": null,
   "metadata": {},
   "outputs": [],
   "source": []
  },
  {
   "cell_type": "markdown",
   "metadata": {},
   "source": [
    "5. Appliquer la fonction `kaprekar` à quelques entiers à 3 chiffres et émettre une conjecture."
   ]
  },
  {
   "cell_type": "code",
   "execution_count": null,
   "metadata": {},
   "outputs": [],
   "source": []
  },
  {
   "cell_type": "raw",
   "metadata": {},
   "source": [
    "Conjecture : \n"
   ]
  }
 ],
 "metadata": {
  "kernelspec": {
   "display_name": "Python 3",
   "language": "python",
   "name": "python3"
  },
  "language_info": {
   "codemirror_mode": {
    "name": "ipython",
    "version": 3
   },
   "file_extension": ".py",
   "mimetype": "text/x-python",
   "name": "python",
   "nbconvert_exporter": "python",
   "pygments_lexer": "ipython3",
   "version": "3.8.6"
  }
 },
 "nbformat": 4,
 "nbformat_minor": 2
}

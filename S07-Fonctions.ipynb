{
  "nbformat": 4,
  "nbformat_minor": 0,
  "metadata": {
    "kernelspec": {
      "display_name": "Python 3",
      "language": "python",
      "name": "python3"
    },
    "language_info": {
      "codemirror_mode": {
        "name": "ipython",
        "version": 3
      },
      "file_extension": ".py",
      "mimetype": "text/x-python",
      "name": "python",
      "nbconvert_exporter": "python",
      "pygments_lexer": "ipython3",
      "version": "3.8.6"
    },
    "colab": {
      "name": "S07-Fonctions.ipynb",
      "provenance": []
    }
  },
  "cells": [
    {
      "cell_type": "markdown",
      "metadata": {
        "id": "Asbtdje3RQD7"
      },
      "source": [
        "# Fonctions\n",
        "\n",
        "## Définir de nouveaux mots de vocabulaire\n",
        "\n",
        "Nous connaissons  déjà quelques fonctions :\n",
        "- `int` , qui peut prendre en argument un `float` et qui renvoie la partie entière de ce `float`.\n",
        "- `sqrt` , importée du module `math` , qui prend en argument un `float` positif et qui renvoie un `float` qui est une valeur approchée de sa racine carrée.\n",
        "-  `print` , peut prendre en argument une chaine de caractères (ou davantage), ne retourne rien mais l’affiche à l’écran.\n",
        "-  `input` , qui prend en argument une chaine de caractères, et qui renvoie un `str` : celui entré au clavier par l’utilisateur.\n",
        "\n",
        "Ces fonctions sont dites pré-définies (built-in).\n",
        "\n",
        "Nous avons la possibilité de définir nos propres fonctions : on utilise le mot-clé `def` pour définir la fonction, les parenthèses pour indiquer les arguments passés à la fonction, et `return` pour spécifier ce que la fonction renvoie (le résultat). La fonction suivante est rigoureusement inutile, ne prend aucun argument et n’en retourne aucun :"
      ]
    },
    {
      "cell_type": "code",
      "metadata": {
        "id": "5ySCSVUaRQD-",
        "outputId": "5473b11f-a279-4912-853b-50950fb4af07"
      },
      "source": [
        "# FONCTION \n",
        "\n",
        "def dis_bonjour()->None : # on définit le nom de la fonction\n",
        "    print('Bonjour') # voici son unique instruction\n",
        "\n",
        "# FIN DE LA FONCTION\n",
        "     \n",
        "# PROGRAMME PRINCIPAL, AUSSI APPELE MAIN\n",
        "\n",
        "dis_bonjour() # on l'appelle dans le programme principal"
      ],
      "execution_count": null,
      "outputs": [
        {
          "output_type": "stream",
          "text": [
            "Bonjour\n"
          ],
          "name": "stdout"
        }
      ]
    },
    {
      "cell_type": "markdown",
      "metadata": {
        "id": "914l6kxvRQEH"
      },
      "source": [
        "Cette deuxième fonction tout aussi inutile prend un argument qui est censé être un `int`, et ne renvoie rien :"
      ]
    },
    {
      "cell_type": "code",
      "metadata": {
        "id": "yu9vaLGARQEI"
      },
      "source": [
        "# FONCTION \n",
        "\n",
        "def affiche_age(n:int)->None : # Quand on appelle affiche_age, il faut lui donner un argument n\n",
        "    print(\"J'ai \", n ,\" \n",
        "          ans.\")\n",
        "    \n",
        "# MAIN\n",
        "\n",
        "affiche_age(18)"
      ],
      "execution_count": null,
      "outputs": []
    },
    {
      "cell_type": "markdown",
      "metadata": {
        "id": "bHLeDoHsRQEL"
      },
      "source": [
        "En voici une troisième, qui prend en argument un `float`, et renvoie son carré :"
      ]
    },
    {
      "cell_type": "code",
      "metadata": {
        "id": "Sm0RdzCQRQEM"
      },
      "source": [
        "def carre(n:float)->float:\n",
        "    return n*n\n",
        "\n",
        "# MAIN\n",
        "\n",
        "print(carre(10.0))\n",
        "print(carre(9.81))"
      ],
      "execution_count": null,
      "outputs": []
    },
    {
      "cell_type": "markdown",
      "metadata": {
        "id": "sUpruSm7RQES"
      },
      "source": [
        "***\n",
        "### <font color=red>Exercice<font color=black> \n",
        "    \n",
        "Écris une fonction `g` qui modélise la fonction mathématique $g$ définie sur $\\mathbb{R}$ par $$g(x)=3x^2+2x-7$$\n",
        "\n",
        "Puis affiche $g(10)$ et $g(-3)$."
      ]
    },
    {
      "cell_type": "code",
      "metadata": {
        "id": "Ji6OeRWBRQES",
        "outputId": "c822d30a-5b82-43d0-8c2a-ad76f25bd11a",
        "colab": {
          "base_uri": "https://localhost:8080/"
        }
      },
      "source": [
        "def functionG(g:float)->float:\n",
        "  return 3*g**2+2*g-7\n",
        "\n",
        "print(functionG(10))\n",
        "print(functionG(-3))"
      ],
      "execution_count": 2,
      "outputs": [
        {
          "output_type": "stream",
          "text": [
            "313\n",
            "14\n"
          ],
          "name": "stdout"
        }
      ]
    },
    {
      "cell_type": "markdown",
      "metadata": {
        "id": "eFXEVad2RQEV"
      },
      "source": [
        "-***\n",
        "### <font color=red>Exercice<font color=black> \n",
        "    \n",
        "Écrire une fonction qui calcule l’aire d’un disque de rayon donné et s’en servir pour calculer l’aire d’un disque de rayon 5cm."
      ]
    },
    {
      "cell_type": "code",
      "metadata": {
        "id": "nRgS6Bd6RQEW",
        "outputId": "4dbc0aa3-6203-445a-ae03-4f956663f671",
        "colab": {
          "base_uri": "https://localhost:8080/"
        }
      },
      "source": [
        "from math import pi\n",
        "\n",
        "def area(rayon:float)->float:\n",
        "  return pi*rayon**2\n",
        "#compléter\n",
        "\n",
        "print(area(5))"
      ],
      "execution_count": 5,
      "outputs": [
        {
          "output_type": "stream",
          "text": [
            "78.53981633974483\n"
          ],
          "name": "stdout"
        }
      ]
    },
    {
      "cell_type": "markdown",
      "metadata": {
        "id": "UMjPa02jRQEZ"
      },
      "source": [
        "## Argument(s) d'une fonction\n",
        "\n",
        "### Une fonction peut prendre plusieurs arguments :"
      ]
    },
    {
      "cell_type": "code",
      "metadata": {
        "id": "c_LXFIKORQEZ"
      },
      "source": [
        "def produit(n:int,p:int)->int:\n",
        "    return n*p\n",
        "\n",
        "print(produit(3,4))"
      ],
      "execution_count": null,
      "outputs": []
    },
    {
      "cell_type": "markdown",
      "metadata": {
        "id": "GULC52CURQEd"
      },
      "source": [
        "***\n",
        "### <font color=red>Exercice<font color=black> \n",
        "    \n",
        "Écrire une fonction `maximum` qui\n",
        "- en entrée prend  deux `float`\n",
        "- renvoie le plus grand des deux (sans utiliser la fonction `max` de Python)."
      ]
    },
    {
      "cell_type": "code",
      "metadata": {
        "id": "2V4n9JzuRQEd",
        "outputId": "c1269c80-bb8b-4b7c-d71a-ccefd645cf4a",
        "colab": {
          "base_uri": "https://localhost:8080/"
        }
      },
      "source": [
        "def max(a:float,b:float)->float:\n",
        "  if a > b :\n",
        "    return a\n",
        "  return b\n",
        "\n",
        "print(max(10,0))\n",
        "print(max(10,100))"
      ],
      "execution_count": 8,
      "outputs": [
        {
          "output_type": "stream",
          "text": [
            "10\n",
            "100\n"
          ],
          "name": "stdout"
        }
      ]
    },
    {
      "cell_type": "markdown",
      "metadata": {
        "id": "6Azy7HirRQEi"
      },
      "source": [
        "***\n",
        "### <font color=red>Exercice<font color=black> \n",
        "    \n",
        "Soit $n$ un entier naturel. La *factorielle* de $n$ est le nombre noté $n!$ et défini par $$n!=1\\times 2\\times\\ldots\\times n$$ et $0!=1$. \n",
        "\n",
        "Programmer la fonction `factorielle` qui\n",
        "- en entrée prend un `int` (supposé positif);\n",
        "- renvoie la factorielle de cet entier."
      ]
    },
    {
      "cell_type": "code",
      "metadata": {
        "id": "3PwEp87uRQEj"
      },
      "source": [
        "def factorielle(f:int)->int:"
      ],
      "execution_count": null,
      "outputs": []
    },
    {
      "cell_type": "markdown",
      "metadata": {
        "id": "tI92J1FgRQEm"
      },
      "source": [
        "***\n",
        "### <font color=red>Exercice<font color=black> \n",
        "\n",
        "La fonction `choice` du module `random`. Permet de choisir au hasard un élément d'une liste ou bien un caractère d'un `str`.\n",
        "Compléter le code suivant pour que la fonction `password` génère un mot de passe aléatoire de longueur `n` constitué de majuscules, minuscules ou chiffres."
      ]
    },
    {
      "cell_type": "code",
      "metadata": {
        "id": "YnoVZ8HIRQEn",
        "outputId": "1f724e61-7b96-49e9-f4a6-fe1ba985ca5b",
        "colab": {
          "base_uri": "https://localhost:8080/"
        }
      },
      "source": [
        "from random import choice\n",
        "\n",
        "def password(n : int) -> str:\n",
        "  password =''\n",
        "  chaine = '0123456789ABCDEFGHIJKLMNOPQRSTUVWXYZabcdefghijklmnopqrstuvwxyz'\n",
        "  for i in range(n):\n",
        "    password += choice(chaine)\n",
        "  return password\n",
        "    # compléter à l'aide d'une boucle\n",
        "    \n",
        "\n",
        "print(password(8))"
      ],
      "execution_count": 18,
      "outputs": [
        {
          "output_type": "stream",
          "text": [
            "YcanVDh3\n"
          ],
          "name": "stdout"
        }
      ]
    },
    {
      "cell_type": "markdown",
      "metadata": {
        "id": "RWE1Ay5lRQEq"
      },
      "source": [
        "***\n",
        "### Une fonction peut \"renvoyer plusieurs valeurs\" :"
      ]
    },
    {
      "cell_type": "code",
      "metadata": {
        "id": "bTR0uVuiRQEr"
      },
      "source": [
        "def div_eucl_par_2(n : int)->tuple:\n",
        "    return n//2, n%2\n",
        "\n",
        "\n",
        "quotient, reste = div_eucl_par_2(13)\n",
        "print(quotient,reste)"
      ],
      "execution_count": null,
      "outputs": []
    },
    {
      "cell_type": "markdown",
      "metadata": {
        "id": "0FHg2OW2RQEt"
      },
      "source": [
        "En fait ce n'est pas tout à fait juste : la fonction ne renvoie pas 2 valeurs, mais un `tuple` (comme une liste mais non-mutable, nous verrons cela prochainement)."
      ]
    },
    {
      "cell_type": "code",
      "metadata": {
        "id": "b_qJV98-RQEu"
      },
      "source": [
        "print(type(div_eucl_par_2(13)))"
      ],
      "execution_count": null,
      "outputs": []
    },
    {
      "cell_type": "markdown",
      "metadata": {
        "id": "npGsxjUnRQEz"
      },
      "source": [
        "### Une fonction peut prendre des arguments facultatifs :\n",
        "\n",
        "C'est-à-dire que si on ne précise rien, les arguments prennent une valeur *par défaut*.\n",
        "Il faut toujours mettre **d'abord les arguments obligatoires et ensuite seulement les facultatifs**."
      ]
    },
    {
      "cell_type": "code",
      "metadata": {
        "scrolled": true,
        "id": "FWlJVSXMRQEz",
        "outputId": "68477af7-1128-4c1e-e8e0-5b01087ca38d"
      },
      "source": [
        "def kebab(sauce : str, salade=True)-> None : # par defaut il y a de la salade\n",
        "    print(\"Kebab sauce\", sauce, end=' ') # end=' ' : une espace et pas de retour a la ligne\n",
        "    if salade : # Raccourci pour if salade== True\n",
        "        print(\"avec salade.\")\n",
        "    else :\n",
        "        print(\"sans salade.\")\n",
        " \n",
        "sansSalade = False # Petite variable pratique\n",
        "kebab(\"harissa\")\n",
        "kebab(\"samourai\", sansSalade)"
      ],
      "execution_count": null,
      "outputs": [
        {
          "output_type": "stream",
          "text": [
            "Kebab sauce harissa avec salade.\n",
            "Kebab sauce samourai sans salade.\n"
          ],
          "name": "stdout"
        }
      ]
    },
    {
      "cell_type": "markdown",
      "metadata": {
        "id": "xIEiYViXRQE2"
      },
      "source": [
        "***\n",
        "### <font color=red>Exercice<font color=black> \n",
        "    \n",
        "1. Écrire une fonction `kapr_haut` qui \n",
        "- prend en entrée un entier à 3 chiffres; \n",
        "- renvoie l’entier ayant les 3 mêmes chiffres mais dans l’ordre croissant.\n",
        "\n",
        "Penser à `%10` , `//100` ... utiliser des listes, et, pour une liste donnée `maliste` , la méthode `maliste.sort()` pour la trier dans l’ordre croissant.\n",
        "\n",
        "*Exemple : kapr_haut(365) renvoie 356.*"
      ]
    },
    {
      "cell_type": "code",
      "metadata": {
        "id": "Fb9OoozhRQE2",
        "outputId": "655dbb94-254c-424d-ed98-7abc8a6449a6",
        "colab": {
          "base_uri": "https://localhost:8080/"
        }
      },
      "source": [
        "def kapr_haut(entie : int)->int:\n",
        "  entier = entie\n",
        "  firstInt = int(entier//100)\n",
        "  entier -= firstInt*100\n",
        "  secondInt = int(entier//10)\n",
        "  lastInt = entier-(secondInt*10)\n",
        "  listEntier = [firstInt,secondInt,lastInt]\n",
        "  listEntier.sort()\n",
        "  entier = 0\n",
        "  for i in range(len(listEntier)):\n",
        "    entier += 10**(len(listEntier)-i-1)*listEntier[i]\n",
        "  return entier\n",
        "\n",
        "kapr_haut(983)"
      ],
      "execution_count": 40,
      "outputs": [
        {
          "output_type": "execute_result",
          "data": {
            "text/plain": [
              "389"
            ]
          },
          "metadata": {
            "tags": []
          },
          "execution_count": 40
        }
      ]
    },
    {
      "cell_type": "markdown",
      "metadata": {
        "id": "wozbjuiKRQE5"
      },
      "source": [
        "2. Écrire une fonction `kapr_bas` qui \n",
        "- prend en entrée un entier à 3 chiffres;\n",
        "- renvoie l’entier ayant les 3 mêmes chiffres mais dans l’ordre décroissant.\n",
        "\n",
        "*Exemple : kapr_bas(365) renvoie 653.*"
      ]
    },
    {
      "cell_type": "code",
      "metadata": {
        "id": "_ruuN6TPRQE6",
        "outputId": "cdfa9db8-a623-44cf-8f4f-bec27618c3e0",
        "colab": {
          "base_uri": "https://localhost:8080/"
        }
      },
      "source": [
        "def kapr_bas(entie : int)->int:\n",
        "  entier = entie\n",
        "  firstInt = int(entier//100)\n",
        "  entier -= firstInt*100\n",
        "  secondInt = int(entier//10)\n",
        "  lastInt = entier-(secondInt*10)\n",
        "  listEntier = [firstInt,secondInt,lastInt]\n",
        "  listEntier.sort()\n",
        "  entier = 0\n",
        "  for i in range(len(listEntier)):\n",
        "    entier += 10**(i)*listEntier[i]\n",
        "  return entier\n",
        "\n",
        "kapr_bas(365)"
      ],
      "execution_count": 42,
      "outputs": [
        {
          "output_type": "execute_result",
          "data": {
            "text/plain": [
              "653"
            ]
          },
          "metadata": {
            "tags": []
          },
          "execution_count": 42
        }
      ]
    },
    {
      "cell_type": "markdown",
      "metadata": {
        "id": "G_-1moeFRQE8"
      },
      "source": [
        "3. Écrire une fonction `processus` qui\n",
        "- prend en entrée un entier `n` à 3 chiffres;\n",
        "- renvoie `kapr_bas(n)-kapr_haut(n)`."
      ]
    },
    {
      "cell_type": "code",
      "metadata": {
        "id": "GGxI_omQRQE9",
        "outputId": "1eb9e730-d096-468d-b5c3-6fba3f02044c",
        "colab": {
          "base_uri": "https://localhost:8080/"
        }
      },
      "source": [
        "def processus(entie : int)->int:\n",
        "  entier = entie\n",
        "  kapr_bas = 0\n",
        "  kapr_haut = 0\n",
        "  firstInt = int(entier//100)\n",
        "  entier -= firstInt*100\n",
        "  secondInt = int(entier//10)\n",
        "  lastInt = entier-(secondInt*10)\n",
        "  listEntier = [firstInt,secondInt,lastInt]\n",
        "  listEntier.sort()\n",
        "  for i in range(len(listEntier)):\n",
        "    kapr_haut += 10**(len(listEntier)-i-1)*listEntier[i]\n",
        "    kapr_bas += 10**(i)*listEntier[i]\n",
        "  print(kapr_bas)\n",
        "  print(kapr_haut)\n",
        "  return kapr_bas-kapr_haut\n",
        "\n",
        "\n",
        "processus(659)"
      ],
      "execution_count": 44,
      "outputs": [
        {
          "output_type": "stream",
          "text": [
            "965\n",
            "569\n"
          ],
          "name": "stdout"
        },
        {
          "output_type": "execute_result",
          "data": {
            "text/plain": [
              "396"
            ]
          },
          "metadata": {
            "tags": []
          },
          "execution_count": 44
        }
      ]
    },
    {
      "cell_type": "markdown",
      "metadata": {
        "id": "7jUl6DnXRQFB"
      },
      "source": [
        "4. Écrire une fonction `kaprekar` qui \n",
        "- prend en entrée un entier à 3 chiffres\n",
        "- lui applique `processus` jusqu’à ce que le résultat soit le même 2 fois de suite et renvoie alors ce résultat."
      ]
    },
    {
      "cell_type": "code",
      "metadata": {
        "id": "0Y9857iGRQFC",
        "outputId": "ae9246a9-58f8-4afa-c2c5-17a5aca9bb3e",
        "colab": {
          "base_uri": "https://localhost:8080/"
        }
      },
      "source": [
        "def processus(entie : int)->int:\n",
        "  entier = entie\n",
        "  kapr_bas = 0\n",
        "  kapr_haut = 0\n",
        "  firstInt = int(entier//100)\n",
        "  entier -= firstInt*100\n",
        "  secondInt = int(entier//10)\n",
        "  lastInt = entier-(secondInt*10)\n",
        "  listEntier = [firstInt,secondInt,lastInt]\n",
        "  listEntier.sort()\n",
        "  for i in range(len(listEntier)):\n",
        "    kapr_haut += 10**(len(listEntier)-i-1)*listEntier[i]\n",
        "    kapr_bas += 10**(i)*listEntier[i]\n",
        "  return kapr_bas-kapr_haut\n",
        "\n",
        "def kaprekar(entie : int)->int:\n",
        "  firstInit = processus(entie)\n",
        "  secondInit = processus(firstInit)\n",
        "  while firstInit != secondInit :\n",
        "    firstInit = secondInit\n",
        "    secondInit = processus(firstInit)\n",
        "  print(firstInit)\n",
        "  print(secondInit)\n",
        "  return firstInit\n",
        "\n",
        "print(kaprekar(685))"
      ],
      "execution_count": 56,
      "outputs": [
        {
          "output_type": "stream",
          "text": [
            "495\n",
            "495\n",
            "495\n"
          ],
          "name": "stdout"
        }
      ]
    },
    {
      "cell_type": "markdown",
      "metadata": {
        "id": "J2-WNw3LRQFE"
      },
      "source": [
        "5. Appliquer la fonction `kaprekar` à quelques entiers à 3 chiffres et émettre une conjecture."
      ]
    },
    {
      "cell_type": "code",
      "metadata": {
        "id": "46i32FuZRQFF"
      },
      "source": [
        ""
      ],
      "execution_count": null,
      "outputs": []
    },
    {
      "cell_type": "markdown",
      "metadata": {
        "id": "p8-6RBnnRQFH"
      },
      "source": [
        "Conjecture : \n"
      ]
    }
  ]
}